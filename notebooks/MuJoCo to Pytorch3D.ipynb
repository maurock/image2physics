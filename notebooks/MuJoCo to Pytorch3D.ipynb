{
 "cells": [
  {
   "cell_type": "markdown",
   "id": "e7a62479-282f-4f36-aa1f-f5d4353b2035",
   "metadata": {},
   "source": [
    "# MuJoCo to Pytorch3D"
   ]
  },
  {
   "cell_type": "markdown",
   "id": "8743be5b-2c04-4d66-b02b-31fbc4ed02b3",
   "metadata": {},
   "source": [
    "MuJoCo XLA provides a diferentiable framework for differentiable physics. However, MuJoCo rasterizer is not differentiable, so it is not possible to supervise our learning process on 2D images. In this notebook I write a Dataparser to convert a MuJoCo model into a structure that Pytorch3D can process. I show how this can be used for optimizing a physics simulation based on 2D supervision. "
   ]
  },
  {
   "cell_type": "code",
   "execution_count": 1,
   "id": "bae89644-e8ba-4ccb-b55a-8d3001e3c911",
   "metadata": {},
   "outputs": [
    {
     "name": "stdout",
     "output_type": "stream",
     "text": [
      "env: MUJOCO_GL=egl\n",
      "gpu\n"
     ]
    }
   ],
   "source": [
    "import mujoco\n",
    "from mujoco import mjx\n",
    "import mediapy as media\n",
    "import jax\n",
    "import os\n",
    "import jax.numpy as jnp\n",
    "import sys\n",
    "from PIL import Image\n",
    "import numpy as np\n",
    "import trimesh\n",
    "from pytorch3d.structures import Meshes\n",
    "import torch\n",
    "from pytorch3d.transforms import matrix_to_quaternion, Transform3d\n",
    "import torch.nn.functional as F\n",
    "from pytorch3d.renderer import (\n",
    "    FoVPerspectiveCameras, look_at_view_transform,\n",
    "    RasterizationSettings, BlendParams,\n",
    "    MeshRenderer, MeshRasterizer, HardPhongShader, SoftPhongShader, TexturesVertex\n",
    ")\n",
    "from pytorch3d.structures.meshes import Meshes\n",
    "%env MUJOCO_GL=egl\n",
    "\n",
    "from jax.lib import xla_bridge\n",
    "print(xla_bridge.get_backend().platform)"
   ]
  },
  {
   "cell_type": "markdown",
   "id": "f4c35f2b-0513-4f23-93d0-35790f270472",
   "metadata": {},
   "source": [
    "Define the Model"
   ]
  },
  {
   "cell_type": "code",
   "execution_count": 2,
   "id": "d4e0363e-9101-4527-90c8-c33e6429493a",
   "metadata": {},
   "outputs": [],
   "source": [
    "target_position = [10, 0, 1]\n",
    "\n",
    "model_XML=f\"\"\"\n",
    "<mujoco>\n",
    "  <option iterations=\"100\" solver=\"Newton\"/>\n",
    "  \n",
    "  <asset>\n",
    "    <texture type=\"skybox\" builtin=\"gradient\" rgb1=\".3 .5 .7\" rgb2=\"1 1 1\" width=\"32\" height=\"512\"/>\n",
    "    <texture name=\"grid\" type=\"2d\" builtin=\"checker\" width=\"512\" height=\"512\" rgb1=\".1 .2 .3\" rgb2=\".2 .3 .4\"/>\n",
    "    <material name=\"grid\" texture=\"grid\" texrepeat=\"2 2\" texuniform=\"true\" reflectance=\".2\"/>\n",
    "  </asset>\n",
    "\n",
    "  <visual>\n",
    "    <global offheight=\"720\" offwidth=\"1280\"/>\n",
    "    <quality offsamples=\"8\"/>\n",
    "  </visual>\n",
    "\n",
    "  <asset>\n",
    "  \n",
    "    <mesh name=\"torus_complete\" file=\"/home/mauro/Documents/Projects/JAX/assets/torus.obj\" scale=\"2 2 2\"/>\n",
    "    \n",
    "    <mesh name=\"torus0\" file=\"/home/mauro/Documents/Projects/JAX/assets/obj/torus-dec/torus-dec_collision_0.obj\" scale=\"2 2 2\"/>\n",
    "    <mesh name=\"torus1\" file=\"/home/mauro/Documents/Projects/JAX/assets/obj/torus-dec/torus-dec_collision_1.obj\" scale=\"2 2 2\"/>\n",
    "    <mesh name=\"torus2\" file=\"/home/mauro/Documents/Projects/JAX/assets/obj/torus-dec/torus-dec_collision_2.obj\" scale=\"2 2 2\"/>\n",
    "    <mesh name=\"torus3\" file=\"/home/mauro/Documents/Projects/JAX/assets/obj/torus-dec/torus-dec_collision_3.obj\" scale=\"2 2 2\"/>\n",
    "    <mesh name=\"torus4\" file=\"/home/mauro/Documents/Projects/JAX/assets/obj/torus-dec/torus-dec_collision_4.obj\" scale=\"2 2 2\"/>\n",
    "    <mesh name=\"torus5\" file=\"/home/mauro/Documents/Projects/JAX/assets/obj/torus-dec/torus-dec_collision_5.obj\" scale=\"2 2 2\"/>\n",
    "    <mesh name=\"torus6\" file=\"/home/mauro/Documents/Projects/JAX/assets/obj/torus-dec/torus-dec_collision_6.obj\" scale=\"2 2 2\"/>\n",
    "    <mesh name=\"torus7\" file=\"/home/mauro/Documents/Projects/JAX/assets/obj/torus-dec/torus-dec_collision_7.obj\" scale=\"2 2 2\"/>\n",
    "    <mesh name=\"torus8\" file=\"/home/mauro/Documents/Projects/JAX/assets/obj/torus-dec/torus-dec_collision_8.obj\" scale=\"2 2 2\"/>\n",
    "    <mesh name=\"torus9\" file=\"/home/mauro/Documents/Projects/JAX/assets/obj/torus-dec/torus-dec_collision_9.obj\" scale=\"2 2 2\"/>\n",
    "    <mesh name=\"torus10\" file=\"/home/mauro/Documents/Projects/JAX/assets/obj/torus-dec/torus-dec_collision_10.obj\" scale=\"2 2 2\"/>\n",
    "    \n",
    "    <mesh name=\"sphere\" file=\"/home/mauro/Documents/Projects/JAX/assets/obj/sphere.obj\" scale=\"0.2 0.2 0.2\"/>\n",
    "    \n",
    "  </asset>\n",
    "\n",
    "  <worldbody>\n",
    "    <light name=\"top\" pos=\"1 0 0\"/>\n",
    "    \n",
    "    <camera name=\"cam1\" pos=\"5 -15 2.5\" xyaxes=\"1 0 0 0 0 1\"/>\n",
    "    <camera name=\"cam2\" pos=\"10 0 15\" xyaxes=\"1 0 0 0 1 0\"/>\n",
    "    \n",
    "    \n",
    "    <body>\n",
    "      <freejoint/>\n",
    "      <geom mass=\"5000\" type=\"mesh\" mesh=\"sphere\" rgba=\"1 0 0 1\"/>\n",
    "    </body>\n",
    "\n",
    "    <body pos=\"{target_position[0]} {target_position[1]} {target_position[2]}\">\n",
    "        \n",
    "        <geom type=\"mesh\" mesh=\"torus_complete\" contype=\"0\" conaffinity=\"0\"/>\n",
    "        <!-- Keeping the convex hulls for collision detection -->\n",
    "        <geom type=\"mesh\" mesh=\"torus0\" conaffinity=\"1\" contype=\"1\" rgba=\"0 0 0 0\" />\n",
    "        <geom type=\"mesh\" mesh=\"torus1\" conaffinity=\"1\" contype=\"1\" rgba=\"0 0 0 0\" />\n",
    "        <geom type=\"mesh\" mesh=\"torus2\" conaffinity=\"1\" contype=\"1\" rgba=\"0 0 0 0\" />\n",
    "        <geom type=\"mesh\" mesh=\"torus3\" conaffinity=\"1\" contype=\"1\" rgba=\"0 0 0 0\" />\n",
    "        <geom type=\"mesh\" mesh=\"torus4\" conaffinity=\"1\" contype=\"1\" rgba=\"0 0 0 0\" />\n",
    "        <geom type=\"mesh\" mesh=\"torus5\" conaffinity=\"1\" contype=\"1\" rgba=\"0 0 0 0\" />\n",
    "        <geom type=\"mesh\" mesh=\"torus6\" conaffinity=\"1\" contype=\"1\" rgba=\"0 0 0 0\" />\n",
    "        <geom type=\"mesh\" mesh=\"torus7\" conaffinity=\"1\" contype=\"1\" rgba=\"0 0 0 0\" />\n",
    "        <geom type=\"mesh\" mesh=\"torus8\" conaffinity=\"1\" contype=\"1\" rgba=\"0 0 0 0\" />\n",
    "        <geom type=\"mesh\" mesh=\"torus9\" conaffinity=\"1\" contype=\"1\" rgba=\"0 0 0 0\" />\n",
    "        <geom type=\"mesh\" mesh=\"torus10\" conaffinity=\"1\" contype=\"1\" rgba=\"0 0 0 0\" />\n",
    "    </body>\n",
    "\n",
    "  </worldbody>\n",
    "  \n",
    "</mujoco>\n",
    "\"\"\""
   ]
  },
  {
   "cell_type": "markdown",
   "id": "3024c3c3-62e1-4573-a09d-469e14c2b15f",
   "metadata": {},
   "source": [
    "Run the simulation to collect GT data"
   ]
  },
  {
   "cell_type": "code",
   "execution_count": 3,
   "id": "124b011c-3491-4cc9-876b-1454e773beb5",
   "metadata": {},
   "outputs": [
    {
     "name": "stderr",
     "output_type": "stream",
     "text": [
      "/home/mauro/miniconda3/envs/phys/lib/python3.8/site-packages/mujoco/mjx/_src/mesh.py:177: UserWarning: Mesh \"torus0\" has a coplanar face with more than 20 vertices. This may lead to performance issues and inaccuracies in collision detection. Consider decimating the mesh.\n",
      "  warnings.warn(\n",
      "/home/mauro/miniconda3/envs/phys/lib/python3.8/site-packages/mujoco/mjx/_src/mesh.py:177: UserWarning: Mesh \"torus10\" has a coplanar face with more than 20 vertices. This may lead to performance issues and inaccuracies in collision detection. Consider decimating the mesh.\n",
      "  warnings.warn(\n"
     ]
    },
    {
     "name": "stdout",
     "output_type": "stream",
     "text": [
      "Render interval: 10\n"
     ]
    },
    {
     "name": "stderr",
     "output_type": "stream",
     "text": [
      "/home/mauro/miniconda3/envs/phys/lib/python3.8/site-packages/jax/_src/interpreters/mlir.py:246: RuntimeWarning: overflow encountered in cast\n",
      "  x = np.asarray(x, dtypes.canonicalize_dtype(x.dtype))\n"
     ]
    }
   ],
   "source": [
    "\n",
    "\n",
    "########################## Initial params ##################################\n",
    "vel = jnp.array([6., 0., 10.])\n",
    "timesteps = 1500\n",
    "fps = 48\n",
    "width = 1280\n",
    "height = 720\n",
    "############################################################################\n",
    "\n",
    "# print(os.environ)\n",
    "# Instantiate models and data\n",
    "mj_model = mujoco.MjModel.from_xml_string(model_XML)\n",
    "mjx_model = mjx.put_model(mj_model)\n",
    "\n",
    "def init_simulation(vel, mjx_model):\n",
    "    mjx_data = mjx.make_data(mjx_model)\n",
    "    qvel = mjx_data.qvel.at[0].set(vel[0]).at[1].set(vel[1]).at[2].set(vel[2])\n",
    "    mjx_data = mjx_data.replace(qvel=qvel)\n",
    "    return mjx_data\n",
    "\n",
    "jit_step = jax.jit(mjx.step)\n",
    "\n",
    "def sim(i, mjx_data):\n",
    "    mjx_data = jit_step(mjx_model, mjx_data)\n",
    "    return mjx_data\n",
    "\n",
    "def run_simulation(mj_model, mjx_model, mjx_data):\n",
    "    \n",
    "    render_interval = int((1 / mj_model.opt.timestep) / fps)\n",
    "    print(f\"Render interval: {render_interval}\")\n",
    "\n",
    "    frames = {'cam1': [], 'cam2': []}\n",
    "    \n",
    "    with mujoco.Renderer(mj_model, height=height, width=width) as renderer:\n",
    "        for t in range(timesteps):\n",
    "            mjx_data = sim(t, mjx_data)\n",
    "            # MuJoCo render\n",
    "            if t % render_interval == 0:\n",
    "                mj_data = mjx.get_data(mj_model, mjx_data)\n",
    "                renderer.update_scene(mj_data, camera=\"cam1\")\n",
    "                pixels = renderer.render()   \n",
    "                frames['cam1'].append(pixels)\n",
    "\n",
    "                renderer.update_scene(mj_data, camera=\"cam2\")\n",
    "                pixels = renderer.render()   \n",
    "                frames['cam2'].append(pixels)\n",
    "                # im = Image.fromarray(pixels)\n",
    "                # im.show()\n",
    "    return frames\n",
    "    \n",
    "mjx_data = init_simulation(vel, mjx_model)\n",
    "frames=run_simulation(mj_model, mjx_model, mjx_data) \n",
    "\n",
    "\n",
    "\n",
    "# Save videos\n",
    "# media.write_video('/home/mauro/Downloads/cam1.mp4', frames['cam1'], fps=fps)\n",
    "# media.write_video('/home/mauro/Downloads/cam2.mp4', frames['cam2'], fps=fps)\n",
    "\n",
    "# gt_image = frames['cam1'][-1]\n",
    "# im = Image.fromarray(gt_image)\n",
    "# im.show()\n",
    "# media.show_image(frames['cam1'][-1])\n"
   ]
  },
  {
   "cell_type": "code",
   "execution_count": 4,
   "id": "9e598940-f231-485b-89f8-801a83d14cc7",
   "metadata": {},
   "outputs": [
    {
     "data": {
      "text/html": [
       "<table class=\"show_videos\" style=\"border-spacing:0px;\"><tr><td style=\"padding:1px;\"><video controls width=\"1280\" height=\"720\" style=\"object-fit:cover;\" loop autoplay muted>\n",
       "      <source src=\"data:video/mp4;base64,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\" type=\"video/mp4\"/>\n",
       "      This browser does not support the video tag.\n",
       "      </video></td></tr></table>"
      ],
      "text/plain": [
       "<IPython.core.display.HTML object>"
      ]
     },
     "metadata": {},
     "output_type": "display_data"
    },
    {
     "data": {
      "text/html": [
       "<table class=\"show_videos\" style=\"border-spacing:0px;\"><tr><td style=\"padding:1px;\"><video controls width=\"1280\" height=\"720\" style=\"object-fit:cover;\" loop autoplay muted>\n",
       "      <source src=\"data:video/mp4;base64,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\" type=\"video/mp4\"/>\n",
       "      This browser does not support the video tag.\n",
       "      </video></td></tr></table>"
      ],
      "text/plain": [
       "<IPython.core.display.HTML object>"
      ]
     },
     "metadata": {},
     "output_type": "display_data"
    }
   ],
   "source": [
    "media.show_video(frames['cam1'], fps=fps)\n",
    "media.show_video(frames['cam2'], fps=fps)"
   ]
  },
  {
   "cell_type": "code",
   "execution_count": null,
   "id": "9de98b7f-d1a2-4419-a1d2-139a23096afa",
   "metadata": {
    "collapsed": true,
    "jupyter": {
     "outputs_hidden": true
    }
   },
   "outputs": [],
   "source": [
    "class DataParser:\n",
    "    \"\"\"data parsing from MuJoCo XLA to Pytorch3D\"\"\"\n",
    "    def __init__(self, mjx_model, mjx_data):\n",
    "        self.model = mjx_model\n",
    "        self.data = mjx_data\n",
    "\n",
    "    def parse(self):\n",
    "        \n",
    "        \n",
    "        \n",
    "    \n",
    "        "
   ]
  },
  {
   "cell_type": "code",
   "execution_count": 114,
   "id": "eb5be5f5-c931-4e21-89cd-8a7427eb0158",
   "metadata": {
    "collapsed": true,
    "jupyter": {
     "outputs_hidden": true
    }
   },
   "outputs": [
    {
     "name": "stdout",
     "output_type": "stream",
     "text": [
      "<mujoco.renderer.Renderer object at 0x7b468d66d670>\n"
     ]
    }
   ],
   "source": [
    "renderer = mujoco.Renderer(mj_model, height=height, width=width)\n",
    "mj_data = mjx.get_data(mj_model, mjx_data)\n",
    "renderer.update_scene(mj_data, camera='cam1')\n",
    "\n",
    "print(renderer)"
   ]
  },
  {
   "cell_type": "code",
   "execution_count": 24,
   "id": "64f05a36-1a7f-4bca-a56d-103426d56303",
   "metadata": {},
   "outputs": [
    {
     "ename": "AttributeError",
     "evalue": "'Model' object has no attribute 'mesh_facenum'",
     "output_type": "error",
     "traceback": [
      "\u001b[0;31m---------------------------------------------------------------------------\u001b[0m",
      "\u001b[0;31mAttributeError\u001b[0m                            Traceback (most recent call last)",
      "Cell \u001b[0;32mIn[24], line 38\u001b[0m\n\u001b[1;32m     35\u001b[0m verts \u001b[38;5;241m=\u001b[39m mj_model\u001b[38;5;241m.\u001b[39mmesh_vert[mjx_model\u001b[38;5;241m.\u001b[39mmesh_vertadr[geom_idx] : mjx_model\u001b[38;5;241m.\u001b[39mmesh_vertadr[geom_idx] \u001b[38;5;241m+\u001b[39m mjx_model\u001b[38;5;241m.\u001b[39mmesh_vertnum[geom_idx], :]\n\u001b[1;32m     36\u001b[0m verts \u001b[38;5;241m=\u001b[39m jnp_to_torch(verts)\n\u001b[0;32m---> 38\u001b[0m faces \u001b[38;5;241m=\u001b[39m mj_model\u001b[38;5;241m.\u001b[39mmesh_face[mjx_model\u001b[38;5;241m.\u001b[39mmesh_faceadr[geom_idx] : mjx_model\u001b[38;5;241m.\u001b[39mmesh_faceadr[geom_idx] \u001b[38;5;241m+\u001b[39m \u001b[43mmjx_model\u001b[49m\u001b[38;5;241;43m.\u001b[39;49m\u001b[43mmesh_facenum\u001b[49m[geom_idx], :]\n\u001b[1;32m     39\u001b[0m \u001b[38;5;66;03m# faces = faces - faces.min()\u001b[39;00m\n\u001b[1;32m     40\u001b[0m faces \u001b[38;5;241m=\u001b[39m jnp_to_torch(faces)\n",
      "\u001b[0;31mAttributeError\u001b[0m: 'Model' object has no attribute 'mesh_facenum'"
     ]
    }
   ],
   "source": [
    "def pad_tensor(values_all, element, max_values=None):\n",
    "    \"\"\"\n",
    "\n",
    "    Args:\n",
    "        values_all (list): it contains\n",
    "    \"\"\"\n",
    "    assert element == 'verts' or element == 'faces', 'Element must be verts or faces'\n",
    "    pad_value = 0 if element == 'verts' else -1\n",
    "    if not max_values:\n",
    "        len_values = [verts.shape[0] for values in values_all]\n",
    "        max_values = max(len_values)\n",
    "    \n",
    "    padded_values = []\n",
    "    for values in values_all:\n",
    "        padding = (0, 0, 0, max_values - values.shape[0])   # For a 2D tensor, pad=(pad_left, pad_right, pad_top, pad_bottom)\n",
    "        padded_values.append(F.pad(values, padding, \"constant\", pad_value))\n",
    "    \n",
    "    # Stack all padded tensors into a single tensor\n",
    "    padded_values_tensor = torch.stack(padded_values)\n",
    "    \n",
    "    return padded_values_tensor\n",
    "    \n",
    "def jnp_to_torch(jnp_array):\n",
    "    return torch.from_numpy(jnp_array.__array__().copy())\n",
    "    \n",
    "MESH_IDX = 7\n",
    "\n",
    "verts_all = []\n",
    "faces_all = []\n",
    "# Loop through all geometries\n",
    "for geom_idx in range(mjx_model.ngeom):\n",
    "\n",
    "    if mjx_model.geom_type[geom_idx] == MESH_IDX:\n",
    "\n",
    "        verts = mj_model.mesh_vert[mjx_model.mesh_vertadr[geom_idx] : mjx_model.mesh_vertadr[geom_idx] + mjx_model.mesh_vertnum[geom_idx], :]\n",
    "        verts = jnp_to_torch(verts)\n",
    "        \n",
    "        faces = mj_model.mesh_face[mjx_model.mesh_faceadr[geom_idx] : mjx_model.mesh_faceadr[geom_idx] + mj_model.mesh_facenum[geom_idx], :]\n",
    "        # faces = faces - faces.min()\n",
    "        faces = jnp_to_torch(faces)\n",
    "        \n",
    "        # Get the world-space position of this geometry at the current timestep\n",
    "        geom_pos = mjx_data.geom_xpos[geom_idx]  # (x, y, z) position for this geometry\n",
    "        geom_pos = jnp_to_torch(geom_pos)\n",
    "    \n",
    "        # Get the world-space position of this geometry at the current timestep\n",
    "        geom_mat = mjx_data.geom_xmat[geom_idx]  # (x, y, z) position for this geometry\n",
    "        geom_mat = jnp_to_torch(geom_mat)\n",
    "           \n",
    "        # Now you have both the position and orientation (as a quaternion) for this geometry\n",
    "        print(f\"Geometry {geom_idx}: Position {geom_pos}, Rotation {geom_mat}\")\n",
    "    \n",
    "        # Apply the translation and rotation transformation to your mesh or geometry\n",
    "        transform = Transform3d().translate(*geom_pos).rotate(geom_mat)\n",
    "        \n",
    "        # If rendering a mesh, apply the transformation to its vertices\n",
    "        # transformed_verts = transform.transform_points(verts)\n",
    "\n",
    "        # verts_all.extend(verts)\n",
    "        # faces_all.extend(faces)  \n",
    "        verts_all.append(verts)\n",
    "        faces_all.append(faces) \n",
    "\n",
    "# Initialize an OpenGL perspective camera.\n",
    "R, T = look_at_view_transform(dist=2, elev=10, azim=80)\n",
    "cameras = FoVPerspectiveCameras(device='cuda', R=R, T=T)\n",
    "\n",
    "# Define the settings for rasterization and shading. Here we set the output image to be of size\n",
    "# 512x512. As we are rendering images for visualization purposes only we will set faces_per_pixel=1\n",
    "# and blur_radius=0.0. Refer to rasterize_meshes.py for explanations of these parameters.\n",
    "raster_settings = RasterizationSettings(\n",
    "    image_size=512,\n",
    "    blur_radius=0.0,\n",
    "    faces_per_pixel=1,\n",
    ")\n",
    "\n",
    "# Create a Phong renderer by composing a rasterizer and a shader. Here we can use a predefined\n",
    "# PhongShader, passing in the device on which to initialize the default parameters\n",
    "renderer = MeshRenderer(\n",
    "    rasterizer=MeshRasterizer(cameras=cameras,raster_settings=raster_settings),\n",
    "    shader=HardPhongShader(device='cuda', cameras=cameras)\n",
    ")\n",
    "\n",
    "verts_tensor = pad_tensor(verts_all, 'verts')\n",
    "faces_tensor = pad_tensor(faces_all, 'faces')\n",
    "\n",
    "# verts_tensor = torch.stack(verts_all)[None]\n",
    "# faces_tensor = torch.stack(faces_all)[None]\n",
    "\n",
    "verts_rgb = torch.ones_like(verts_tensor).cuda()\n",
    "textures = TexturesVertex(verts_features=verts_rgb)\n",
    "mesh = Meshes(verts=verts_tensor.cuda(), faces=faces_tensor.cuda(), textures=textures)\n",
    "output = renderer(mesh)\n",
    "\n",
    "image = np.array(output.cpu()[12]*255, dtype=np.uint8)\n",
    "Image.fromarray(image).show()\n",
    "\n",
    "# Render or visualize the transformed mesh as needed\n",
    "# for verts, faces in zip(verts_all, faces_all):\n",
    "#     verts_rgb = torch.ones_like(verts)[None].cuda() # (1, V, 3)\n",
    "#     textures = TexturesVertex(verts_features=verts_rgb)\n",
    "#     mesh = Meshes(verts=verts[None].cuda(), faces=faces[None].cuda(), textures=textures)\n",
    "#     output = renderer(mesh)\n",
    "\n",
    "#     image = np.array(output.cpu()[0]*255, dtype=np.uint8)\n",
    "#     Image.fromarray(image)\n",
    "    "
   ]
  },
  {
   "cell_type": "code",
   "execution_count": 31,
   "id": "a0e97cf2-8ff7-4dc6-9c51-19dbfdfaddb4",
   "metadata": {},
   "outputs": [
    {
     "data": {
      "text/plain": [
       "Array([[0., 0., 0.],\n",
       "       [0., 0., 0.],\n",
       "       [0., 0., 0.],\n",
       "       [0., 0., 0.],\n",
       "       [0., 0., 0.],\n",
       "       [0., 0., 0.],\n",
       "       [0., 0., 0.],\n",
       "       [0., 0., 0.],\n",
       "       [0., 0., 0.],\n",
       "       [0., 0., 0.],\n",
       "       [0., 0., 0.],\n",
       "       [0., 0., 0.],\n",
       "       [0., 0., 0.]], dtype=float32)"
      ]
     },
     "execution_count": 31,
     "metadata": {},
     "output_type": "execute_result"
    }
   ],
   "source": [
    "mjx_data.geom_xpos"
   ]
  },
  {
   "cell_type": "code",
   "execution_count": 124,
   "id": "ef92e86f-6c6c-40c4-87e5-88abd878436e",
   "metadata": {},
   "outputs": [
    {
     "name": "stdout",
     "output_type": "stream",
     "text": [
      "[   0  576  627  696  780  865  957 1003 1047 1096 1141 1196 1281]\n",
      "[576  51  69  84  85  92  46  44  49  45  55  85 162]\n",
      "[[-2.8272648e-10 -9.2864203e-01 -2.3211255e+00]\n",
      " [ 2.5000000e-01 -9.0375888e-01 -2.2589304e+00]\n",
      " [ 4.3301201e-01 -8.3577782e-01 -2.0890131e+00]\n",
      " ...\n",
      " [-2.1652332e-01 -1.6377217e-01 -4.3069282e-01]\n",
      " [-3.5036230e-01 -1.0314891e-01 -3.5469219e-01]\n",
      " [-2.9920775e-01 -2.5700620e-01 -3.2190454e-01]]\n",
      "[12  0  1  2  3  4  5  6  7  8  9 10 11]\n",
      "[7 7 7 7 7 7 7 7 7 7 7 7 7]\n",
      "[[  0  12  13]\n",
      " [  0  13   1]\n",
      " [  1  13  14]\n",
      " ...\n",
      " [ 13 159 160]\n",
      " [ 14 160 161]\n",
      " [ 12 161 159]]\n",
      "[   0 1152 1250 1384 1548 1714 1894 1982 2066 2160 2246 2352 2518]\n",
      "[1152   98  134  164  166  180   88   84   94   86  106  166  320]\n"
     ]
    }
   ],
   "source": [
    "print(mjx_model.mesh_vertadr)\n",
    "print(mjx_model.mesh_vertnum)\n",
    "print(mjx_model.mesh_vert)\n",
    "print(mjx_model.geom_dataid)\n",
    "print(mjx_model.geom_type)\n",
    "print(mjx_model.mesh_face)\n",
    "print(mjx_model.mesh_faceadr)\n",
    "print(mj_model.mesh_facenum)"
   ]
  }
 ],
 "metadata": {
  "kernelspec": {
   "display_name": "Python 3 (ipykernel)",
   "language": "python",
   "name": "python3"
  },
  "language_info": {
   "codemirror_mode": {
    "name": "ipython",
    "version": 3
   },
   "file_extension": ".py",
   "mimetype": "text/x-python",
   "name": "python",
   "nbconvert_exporter": "python",
   "pygments_lexer": "ipython3",
   "version": "3.8.19"
  }
 },
 "nbformat": 4,
 "nbformat_minor": 5
}
